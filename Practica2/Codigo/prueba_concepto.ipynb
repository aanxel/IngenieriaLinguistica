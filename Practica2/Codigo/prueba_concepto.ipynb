{
 "cells": [
  {
   "cell_type": "code",
   "execution_count": 12,
   "metadata": {},
   "outputs": [],
   "source": [
    "import clasificacion_textos as ct"
   ]
  },
  {
   "cell_type": "markdown",
   "metadata": {},
   "source": [
    "### Generar nombres de ficheros temporales para no ensuciar el directorio principal"
   ]
  },
  {
   "cell_type": "code",
   "execution_count": 13,
   "metadata": {},
   "outputs": [],
   "source": [
    "import tempfile\n",
    "import os\n",
    "fichero_particion = os.path.join(tempfile._get_default_tempdir(),next(tempfile._get_candidate_names()))\n",
    "fichero_clasificacion = os.path.join(tempfile._get_default_tempdir(),next(tempfile._get_candidate_names()))\n",
    "fichero_compilacion = os.path.join(tempfile._get_default_tempdir(),next(tempfile._get_candidate_names()))"
   ]
  },
  {
   "cell_type": "markdown",
   "metadata": {},
   "source": [
    "### Lanzar la siguiente celda si se quiere generar una nueva partición de entrenamiento / test"
   ]
  },
  {
   "cell_type": "code",
   "execution_count": 14,
   "metadata": {},
   "outputs": [],
   "source": [
    "ct.generar_particion_train_test(\n",
    "    f_salida=fichero_particion,\n",
    "    temas=('Politica', 'Deportes', 'Salud'),\n",
    "    dir_docs='../Datos/Original',\n",
    "    prop_train=0.85\n",
    ")"
   ]
  },
  {
   "cell_type": "markdown",
   "metadata": {},
   "source": [
    "### Crear una instancia del clasificador\n",
    "\n",
    "Es importante haber instalado el paquete del parseador dentro del entorno virtual:\n",
    "```\n",
    "python -m spacy download es_core_news_md\n",
    "```"
   ]
  },
  {
   "cell_type": "code",
   "execution_count": 15,
   "metadata": {},
   "outputs": [],
   "source": [
    "clasificador = ct.ClasificadorTfIdf(\n",
    "    fichero_salida=fichero_clasificacion,\n",
    "    f_compilacion=fichero_compilacion,\n",
    "    f_particion=fichero_particion,\n",
    "    temas=('Politica', 'Deportes', 'Salud'),\n",
    "    d_docs='../Datos/Original',\n",
    ")"
   ]
  },
  {
   "cell_type": "markdown",
   "metadata": {},
   "source": [
    "### Compilar el modelo para la partición actual (generación de vectores tf-idf). Solo hace falta ejecutarlo una vez"
   ]
  },
  {
   "cell_type": "code",
   "execution_count": 16,
   "metadata": {},
   "outputs": [],
   "source": [
    "clasificador.compilar()"
   ]
  },
  {
   "cell_type": "markdown",
   "metadata": {},
   "source": [
    "### Probar el modelo sobre la el conjunto de test actual"
   ]
  },
  {
   "cell_type": "code",
   "execution_count": 17,
   "metadata": {},
   "outputs": [
    {
     "data": {
      "text/plain": [
       "{'errores': [{'real': 'Politica/text4.txt', 'pred': 'Salud/text4.txt'}],\n",
       " 'predicciones': {'../Datos/Original/Politica/text23.txt': [('Politica',\n",
       "    0.25961563528522535),\n",
       "   ('Salud', 0.06823902054880819),\n",
       "   ('Deportes', 0.054933027124916094)],\n",
       "  '../Datos/Original/Politica/text44.txt': [('Politica', 0.2105083057176412),\n",
       "   ('Salud', 0.0798398047285214),\n",
       "   ('Deportes', 0.042734911099395145)],\n",
       "  '../Datos/Original/Politica/text40.txt': [('Politica', 0.2470120608548372),\n",
       "   ('Salud', 0.04177236321626332),\n",
       "   ('Deportes', 0.036588787734271926)],\n",
       "  '../Datos/Original/Politica/text31.txt': [('Politica', 0.21765921119758852),\n",
       "   ('Salud', 0.10014445770181403),\n",
       "   ('Deportes', 0.05938138309391866)],\n",
       "  '../Datos/Original/Politica/text3.txt': [('Politica', 0.17762873365955176),\n",
       "   ('Salud', 0.05509257331393664),\n",
       "   ('Deportes', 0.04434695897985044)],\n",
       "  '../Datos/Original/Politica/text57.txt': [('Politica', 0.25096229201341025),\n",
       "   ('Deportes', 0.039868330007550114),\n",
       "   ('Salud', 0.0342424883867077)],\n",
       "  '../Datos/Original/Politica/text4.txt': [('Salud', 0.09181824276081268),\n",
       "   ('Politica', 0.08511230280486748),\n",
       "   ('Deportes', 0.04169417397588332)],\n",
       "  '../Datos/Original/Politica/text28.txt': [('Politica', 0.107658197720878),\n",
       "   ('Salud', 0.047684654519294746),\n",
       "   ('Deportes', 0.03437159513708874)],\n",
       "  '../Datos/Original/Politica/text17.txt': [('Politica', 0.20755522685956562),\n",
       "   ('Salud', 0.05936875708350685),\n",
       "   ('Deportes', 0.056379101221078726)],\n",
       "  '../Datos/Original/Deportes/text31.txt': [('Deportes', 0.20761853379550127),\n",
       "   ('Politica', 0.06387837898347676),\n",
       "   ('Salud', 0.022811513549943003)],\n",
       "  '../Datos/Original/Deportes/text40.txt': [('Deportes', 0.3063537898744663),\n",
       "   ('Politica', 0.04778562798783205),\n",
       "   ('Salud', 0.03377377173314211)],\n",
       "  '../Datos/Original/Deportes/text34.txt': [('Deportes', 0.2779316256118787),\n",
       "   ('Politica', 0.056335861751935196),\n",
       "   ('Salud', 0.028388296040298324)],\n",
       "  '../Datos/Original/Deportes/text30.txt': [('Deportes', 0.199354383627275),\n",
       "   ('Politica', 0.053508590916731026),\n",
       "   ('Salud', 0.049786648082463414)],\n",
       "  '../Datos/Original/Deportes/text33.txt': [('Deportes', 0.31192376705318414),\n",
       "   ('Politica', 0.058603504973107325),\n",
       "   ('Salud', 0.028611767334368942)],\n",
       "  '../Datos/Original/Deportes/text29.txt': [('Deportes', 0.16340751140637352),\n",
       "   ('Politica', 0.04453436988984832),\n",
       "   ('Salud', 0.03791629097534113)],\n",
       "  '../Datos/Original/Deportes/text38.txt': [('Deportes', 0.24205767344671483),\n",
       "   ('Politica', 0.0364570199097695),\n",
       "   ('Salud', 0.02750262912708082)],\n",
       "  '../Datos/Original/Deportes/text48.txt': [('Deportes', 0.2006255026731418),\n",
       "   ('Politica', 0.027107157241908215),\n",
       "   ('Salud', 0.02036477350442948)],\n",
       "  '../Datos/Original/Deportes/text2.txt': [('Deportes', 0.15372860845442377),\n",
       "   ('Politica', 0.07582279767158269),\n",
       "   ('Salud', 0.05574964315220924)],\n",
       "  '../Datos/Original/Salud/text5.txt': [('Salud', 0.14324451709156663),\n",
       "   ('Politica', 0.08376961661251879),\n",
       "   ('Deportes', 0.037903018736711015)],\n",
       "  '../Datos/Original/Salud/text32.txt': [('Salud', 0.24389977012755473),\n",
       "   ('Politica', 0.05592707527206462),\n",
       "   ('Deportes', 0.053589221538700174)],\n",
       "  '../Datos/Original/Salud/text30.txt': [('Salud', 0.19557376819827924),\n",
       "   ('Politica', 0.10274847750538696),\n",
       "   ('Deportes', 0.06166291512020726)],\n",
       "  '../Datos/Original/Salud/text58.txt': [('Salud', 0.3645502710011703),\n",
       "   ('Politica', 0.05584739636491339),\n",
       "   ('Deportes', 0.04444690292105943)],\n",
       "  '../Datos/Original/Salud/text37.txt': [('Salud', 0.27489241177036916),\n",
       "   ('Politica', 0.0981360941869837),\n",
       "   ('Deportes', 0.05822562329638393)],\n",
       "  '../Datos/Original/Salud/text31.txt': [('Salud', 0.25053713817709),\n",
       "   ('Politica', 0.09493427822977987),\n",
       "   ('Deportes', 0.07103096553848046)],\n",
       "  '../Datos/Original/Salud/text19.txt': [('Salud', 0.2707810965877826),\n",
       "   ('Politica', 0.09918502187358119),\n",
       "   ('Deportes', 0.042891149504182366)],\n",
       "  '../Datos/Original/Salud/text12.txt': [('Salud', 0.3315974050744004),\n",
       "   ('Politica', 0.15914051348408995),\n",
       "   ('Deportes', 0.05165620600933142)],\n",
       "  '../Datos/Original/Salud/text51.txt': [('Salud', 0.1477015550264908),\n",
       "   ('Politica', 0.0626506871115374),\n",
       "   ('Deportes', 0.06148348192319181)]},\n",
       " 'tasa_aciertos': '96.2962962962963%'}"
      ]
     },
     "execution_count": 17,
     "metadata": {},
     "output_type": "execute_result"
    }
   ],
   "source": [
    "clasificador.test()"
   ]
  },
  {
   "cell_type": "markdown",
   "metadata": {},
   "source": [
    "### Probar funcionalidad de clasificar documentos sin etiquetar (aunque en este caso sabemos que es de deportes)"
   ]
  },
  {
   "cell_type": "code",
   "execution_count": 18,
   "metadata": {},
   "outputs": [
    {
     "data": {
      "text/plain": [
       "{'texto_prueba_concepto.txt': [('Deportes', 0.11425290506654921),\n",
       "  ('Politica', 0.005584400212485996),\n",
       "  ('Salud', 0.0024874589415562237)]}"
      ]
     },
     "execution_count": 18,
     "metadata": {},
     "output_type": "execute_result"
    }
   ],
   "source": [
    "paths = [\n",
    "    'texto_prueba_concepto.txt'\n",
    "]\n",
    "clasificador.clasifica(paths)"
   ]
  }
 ],
 "metadata": {
  "interpreter": {
   "hash": "2f8d25f59e954ef00a641fde08de50949adc27846aa18f273b2f19fe09f5928c"
  },
  "kernelspec": {
   "display_name": "Python 3.9.9 64-bit ('Codigo-H6_2LDJZ': pipenv)",
   "language": "python",
   "name": "python3"
  },
  "language_info": {
   "codemirror_mode": {
    "name": "ipython",
    "version": 3
   },
   "file_extension": ".py",
   "mimetype": "text/x-python",
   "name": "python",
   "nbconvert_exporter": "python",
   "pygments_lexer": "ipython3",
   "version": "3.9.9"
  },
  "orig_nbformat": 4
 },
 "nbformat": 4,
 "nbformat_minor": 2
}
