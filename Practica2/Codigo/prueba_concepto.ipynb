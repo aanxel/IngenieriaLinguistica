{
 "cells": [
  {
   "cell_type": "code",
   "execution_count": 19,
   "metadata": {},
   "outputs": [],
   "source": [
    "import clasificacion_textos as ct"
   ]
  },
  {
   "cell_type": "markdown",
   "metadata": {},
   "source": [
    "### Generar nombres de ficheros temporales para no ensuciar el directorio principal"
   ]
  },
  {
   "cell_type": "code",
   "execution_count": 20,
   "metadata": {},
   "outputs": [],
   "source": [
    "import tempfile\n",
    "import os\n",
    "fichero_particion = os.path.join(tempfile._get_default_tempdir(),next(tempfile._get_candidate_names()))\n",
    "fichero_clasificacion = os.path.join(tempfile._get_default_tempdir(),next(tempfile._get_candidate_names()))\n",
    "fichero_compilacion = os.path.join(tempfile._get_default_tempdir(),next(tempfile._get_candidate_names()))"
   ]
  },
  {
   "cell_type": "markdown",
   "metadata": {},
   "source": [
    "### Lanzar la siguiente celda si se quiere generar una nueva partición de entrenamiento / test"
   ]
  },
  {
   "cell_type": "code",
   "execution_count": 21,
   "metadata": {},
   "outputs": [],
   "source": [
    "ct.generar_particion_train_test(\n",
    "    f_salida=fichero_particion,\n",
    "    temas=('Politica', 'Deportes', 'Salud'),\n",
    "    dir_docs='../Datos/Original',\n",
    "    prop_train=0.85\n",
    ")"
   ]
  },
  {
   "cell_type": "markdown",
   "metadata": {},
   "source": [
    "### Crear una instancia del clasificador\n",
    "\n",
    "Es importante haber instalado el paquete del parseador dentro del entorno virtual:\n",
    "```\n",
    "python -m spacy download es_core_news_md\n",
    "```"
   ]
  },
  {
   "cell_type": "code",
   "execution_count": 22,
   "metadata": {},
   "outputs": [],
   "source": [
    "clasificador = ct.ClasificadorTfIdf(\n",
    "    fichero_salida=fichero_clasificacion,\n",
    "    f_compilacion=fichero_compilacion,\n",
    "    f_particion=fichero_particion,\n",
    "    temas=('Politica', 'Deportes', 'Salud'),\n",
    "    d_docs='../Datos/Original',\n",
    ")"
   ]
  },
  {
   "cell_type": "markdown",
   "metadata": {},
   "source": [
    "### Compilar el modelo para la partición actual (generación de vectores tf-idf). Solo hace falta ejecutarlo una vez"
   ]
  },
  {
   "cell_type": "code",
   "execution_count": 23,
   "metadata": {},
   "outputs": [],
   "source": [
    "clasificador.compilar()"
   ]
  },
  {
   "cell_type": "markdown",
   "metadata": {},
   "source": [
    "### Probar el modelo sobre la el conjunto de test actual"
   ]
  },
  {
   "cell_type": "code",
   "execution_count": 24,
   "metadata": {},
   "outputs": [
    {
     "data": {
      "text/plain": [
       "{'errores': [{'real': 'Politica/text29.txt', 'pred': 'Salud/text29.txt'},\n",
       "  {'real': 'Salud/text23.txt', 'pred': 'Deportes/text23.txt'}],\n",
       " 'predicciones': {'../Datos/Original/Politica/text33.txt': [('Politica',\n",
       "    0.25960137700905656),\n",
       "   ('Deportes', 0.030874042280141182),\n",
       "   ('Salud', 0.029386293972369092)],\n",
       "  '../Datos/Original/Politica/text53.txt': [('Politica', 0.11050785087244586),\n",
       "   ('Salud', 0.10984255112279659),\n",
       "   ('Deportes', 0.05128373008608778)],\n",
       "  '../Datos/Original/Politica/text29.txt': [('Salud', 0.10893919177798615),\n",
       "   ('Politica', 0.07989664906764636),\n",
       "   ('Deportes', 0.04638546529021936)],\n",
       "  '../Datos/Original/Politica/text51.txt': [('Politica', 0.15847638813140474),\n",
       "   ('Salud', 0.053551785874184216),\n",
       "   ('Deportes', 0.04373331726435175)],\n",
       "  '../Datos/Original/Politica/text43.txt': [('Politica', 0.15473383973609436),\n",
       "   ('Salud', 0.06126155221289868),\n",
       "   ('Deportes', 0.053160671349616107)],\n",
       "  '../Datos/Original/Politica/text40.txt': [('Politica', 0.24596660317713212),\n",
       "   ('Salud', 0.04168917828221792),\n",
       "   ('Deportes', 0.03996784480023852)],\n",
       "  '../Datos/Original/Politica/text39.txt': [('Politica', 0.09616196773028446),\n",
       "   ('Salud', 0.017191789009773726),\n",
       "   ('Deportes', 0.007573068028393651)],\n",
       "  '../Datos/Original/Politica/text44.txt': [('Politica', 0.21018416363551104),\n",
       "   ('Salud', 0.078851375351172),\n",
       "   ('Deportes', 0.044277565257520586)],\n",
       "  '../Datos/Original/Politica/text18.txt': [('Politica', 0.2375478791946923),\n",
       "   ('Salud', 0.11026525300299334),\n",
       "   ('Deportes', 0.09248407192296419)],\n",
       "  '../Datos/Original/Deportes/text41.txt': [('Deportes', 0.1682296131080201),\n",
       "   ('Politica', 0.03867730648066082),\n",
       "   ('Salud', 0.02333599679789397)],\n",
       "  '../Datos/Original/Deportes/text12.txt': [('Deportes', 0.28852679195908465),\n",
       "   ('Politica', 0.05563282424463992),\n",
       "   ('Salud', 0.04351755355351867)],\n",
       "  '../Datos/Original/Deportes/text24.txt': [('Deportes', 0.11285328585392652),\n",
       "   ('Politica', 0.03664226539328295),\n",
       "   ('Salud', 0.028412220249295208)],\n",
       "  '../Datos/Original/Deportes/text58.txt': [('Deportes', 0.1823943058908036),\n",
       "   ('Salud', 0.05280046263986842),\n",
       "   ('Politica', 0.04471881642414084)],\n",
       "  '../Datos/Original/Deportes/text52.txt': [('Deportes', 0.13944872102792835),\n",
       "   ('Politica', 0.060296581634299254),\n",
       "   ('Salud', 0.04520681466197973)],\n",
       "  '../Datos/Original/Deportes/text38.txt': [('Deportes', 0.2919891608377974),\n",
       "   ('Politica', 0.03298301071931848),\n",
       "   ('Salud', 0.024451082293221103)],\n",
       "  '../Datos/Original/Deportes/text5.txt': [('Deportes', 0.12804823761834366),\n",
       "   ('Politica', 0.04687637533607698),\n",
       "   ('Salud', 0.03871900628067781)],\n",
       "  '../Datos/Original/Deportes/text20.txt': [('Deportes', 0.22677289429163794),\n",
       "   ('Politica', 0.06308130953699133),\n",
       "   ('Salud', 0.048990953561359546)],\n",
       "  '../Datos/Original/Deportes/text47.txt': [('Deportes', 0.1413578735875597),\n",
       "   ('Politica', 0.043798139185662756),\n",
       "   ('Salud', 0.03704262503785139)],\n",
       "  '../Datos/Original/Salud/text2.txt': [('Salud', 0.21955965242276176),\n",
       "   ('Politica', 0.08186153240053305),\n",
       "   ('Deportes', 0.04979797993306121)],\n",
       "  '../Datos/Original/Salud/text37.txt': [('Salud', 0.2874247753586983),\n",
       "   ('Politica', 0.08873679299843414),\n",
       "   ('Deportes', 0.05697894430319144)],\n",
       "  '../Datos/Original/Salud/text19.txt': [('Salud', 0.2707991221615483),\n",
       "   ('Politica', 0.09939120599844724),\n",
       "   ('Deportes', 0.03956227007562257)],\n",
       "  '../Datos/Original/Salud/text20.txt': [('Salud', 0.24182705429688875),\n",
       "   ('Politica', 0.09852413393260134),\n",
       "   ('Deportes', 0.04729776267478995)],\n",
       "  '../Datos/Original/Salud/text23.txt': [('Deportes', 0.13722608539578898),\n",
       "   ('Politica', 0.13634450058667813),\n",
       "   ('Salud', 0.09938861164892689)],\n",
       "  '../Datos/Original/Salud/text55.txt': [('Salud', 0.3097542091113628),\n",
       "   ('Politica', 0.10921708791058744),\n",
       "   ('Deportes', 0.046961558143022865)],\n",
       "  '../Datos/Original/Salud/text10.txt': [('Salud', 0.12945377428915839),\n",
       "   ('Deportes', 0.08771612306431482),\n",
       "   ('Politica', 0.050909657034140035)],\n",
       "  '../Datos/Original/Salud/text7.txt': [('Salud', 0.33637549987013515),\n",
       "   ('Politica', 0.10329497656687898),\n",
       "   ('Deportes', 0.05001517169591472)],\n",
       "  '../Datos/Original/Salud/text44.txt': [('Salud', 0.11280138162913943),\n",
       "   ('Politica', 0.03668878753747729),\n",
       "   ('Deportes', 0.03309187600474018)]},\n",
       " 'tasa_aciertos': '92.5925925925926%'}"
      ]
     },
     "execution_count": 24,
     "metadata": {},
     "output_type": "execute_result"
    }
   ],
   "source": [
    "clasificador.test()"
   ]
  },
  {
   "cell_type": "markdown",
   "metadata": {},
   "source": [
    "### Probar funcionalidad de clasificar documentos sin etiquetar (aunque en este caso sabemos que es de deportes)"
   ]
  },
  {
   "cell_type": "code",
   "execution_count": 25,
   "metadata": {},
   "outputs": [
    {
     "data": {
      "text/plain": [
       "{'texto_prueba_concepto.txt': [('Deportes', 0.10937628341503393),\n",
       "  ('Politica', 0.010895435981895565),\n",
       "  ('Salud', 0.001509424673557209)]}"
      ]
     },
     "execution_count": 25,
     "metadata": {},
     "output_type": "execute_result"
    }
   ],
   "source": [
    "paths = [\n",
    "    'texto_prueba_concepto.txt'\n",
    "]\n",
    "clasificador.clasifica(paths)"
   ]
  }
 ],
 "metadata": {
  "interpreter": {
   "hash": "2f8d25f59e954ef00a641fde08de50949adc27846aa18f273b2f19fe09f5928c"
  },
  "kernelspec": {
   "display_name": "Python 3.9.9 64-bit ('Codigo-H6_2LDJZ': pipenv)",
   "language": "python",
   "name": "python3"
  },
  "language_info": {
   "codemirror_mode": {
    "name": "ipython",
    "version": 3
   },
   "file_extension": ".py",
   "mimetype": "text/x-python",
   "name": "python",
   "nbconvert_exporter": "python",
   "pygments_lexer": "ipython3",
   "version": "3.9.9"
  },
  "orig_nbformat": 4
 },
 "nbformat": 4,
 "nbformat_minor": 2
}
